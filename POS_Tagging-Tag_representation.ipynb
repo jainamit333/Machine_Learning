{
 "cells": [
  {
   "cell_type": "code",
   "execution_count": 2,
   "metadata": {},
   "outputs": [],
   "source": [
    "from nltk.tokenize import TweetTokenizer\n",
    "from nltk.corpus import words\n",
    "import nltk"
   ]
  },
  {
   "cell_type": "code",
   "execution_count": 3,
   "metadata": {
    "scrolled": true
   },
   "outputs": [
    {
     "name": "stderr",
     "output_type": "stream",
     "text": [
      "[nltk_data] Downloading package words to /Users/amitjain/nltk_data...\n",
      "[nltk_data]   Package words is already up-to-date!\n"
     ]
    },
    {
     "data": {
      "text/plain": [
       "True"
      ]
     },
     "execution_count": 3,
     "metadata": {},
     "output_type": "execute_result"
    }
   ],
   "source": [
    "nltk.download('words')"
   ]
  },
  {
   "cell_type": "code",
   "execution_count": 4,
   "metadata": {},
   "outputs": [],
   "source": [
    "tweet_tknzr = TweetTokenizer()"
   ]
  },
  {
   "cell_type": "code",
   "execution_count": 5,
   "metadata": {},
   "outputs": [],
   "source": [
    "sample_text = \"The Mark XIV bomb sight was developed by Royal Air Force Bomber Command during the Second World War. It was their standard bombsight for the second half of the War, replacing the First World War-era CSBS beginning in 1942. Essentially an automated version of the CSBS, it used a mechanical computer to update the sights in real-time. It required only 10 seconds of straight flight before a bomb drop, and automatically accounted for shallow climbs and dives. It contained a gyro stabilization platform that kept the sight pointed at the target as the bomber manoeuvred, dramatically increasing its accuracy and ease of sighting. It demonstrated accuracy roughly equal to the contemporary Norden bombsight, and was smaller, easier to use, faster-acting and better suited to night bombing. \""
   ]
  },
  {
   "cell_type": "code",
   "execution_count": 6,
   "metadata": {},
   "outputs": [],
   "source": [
    "tokens = tweet_tknzr.tokenize(sample_text)\n",
    "pos = nltk.pos_tag(tokens)"
   ]
  },
  {
   "cell_type": "code",
   "execution_count": 13,
   "metadata": {
    "scrolled": true
   },
   "outputs": [
    {
     "name": "stdout",
     "output_type": "stream",
     "text": [
      "[('The', 'DT'), ('Mark', 'NNP'), ('XIV', 'NNP'), ('bomb', 'NN'), ('sight', 'NN'), ('was', 'VBD'), ('developed', 'VBN'), ('by', 'IN'), ('Royal', 'NNP'), ('Air', 'NNP'), ('Force', 'NNP'), ('Bomber', 'NNP'), ('Command', 'NNP'), ('during', 'IN'), ('the', 'DT'), ('Second', 'JJ'), ('World', 'NNP'), ('War', 'NNP'), ('.', '.'), ('It', 'PRP'), ('was', 'VBD'), ('their', 'PRP$'), ('standard', 'JJ'), ('bombsight', 'NN'), ('for', 'IN'), ('the', 'DT'), ('second', 'JJ'), ('half', 'NN'), ('of', 'IN'), ('the', 'DT'), ('War', 'NNP'), (',', ','), ('replacing', 'VBG'), ('the', 'DT'), ('First', 'JJ'), ('World', 'NNP'), ('War-era', 'NNP'), ('CSBS', 'NNP'), ('beginning', 'VBG'), ('in', 'IN'), ('1942', 'CD'), ('.', '.'), ('Essentially', 'RB'), ('an', 'DT'), ('automated', 'JJ'), ('version', 'NN'), ('of', 'IN'), ('the', 'DT'), ('CSBS', 'NNP'), (',', ','), ('it', 'PRP'), ('used', 'VBD'), ('a', 'DT'), ('mechanical', 'JJ'), ('computer', 'NN'), ('to', 'TO'), ('update', 'VB'), ('the', 'DT'), ('sights', 'NNS'), ('in', 'IN'), ('real-time', 'NN'), ('.', '.'), ('It', 'PRP'), ('required', 'VBD'), ('only', 'RB'), ('10', 'CD'), ('seconds', 'NNS'), ('of', 'IN'), ('straight', 'JJ'), ('flight', 'NN'), ('before', 'IN'), ('a', 'DT'), ('bomb', 'NN'), ('drop', 'NN'), (',', ','), ('and', 'CC'), ('automatically', 'RB'), ('accounted', 'VBD'), ('for', 'IN'), ('shallow', 'JJ'), ('climbs', 'NNS'), ('and', 'CC'), ('dives', 'NNS'), ('.', '.'), ('It', 'PRP'), ('contained', 'VBD'), ('a', 'DT'), ('gyro', 'JJ'), ('stabilization', 'NN'), ('platform', 'NN'), ('that', 'WDT'), ('kept', 'VBD'), ('the', 'DT'), ('sight', 'NN'), ('pointed', 'VBD'), ('at', 'IN'), ('the', 'DT'), ('target', 'NN'), ('as', 'IN'), ('the', 'DT'), ('bomber', 'NN'), ('manoeuvred', 'VBD'), (',', ','), ('dramatically', 'RB'), ('increasing', 'VBG'), ('its', 'PRP$'), ('accuracy', 'NN'), ('and', 'CC'), ('ease', 'NN'), ('of', 'IN'), ('sighting', 'VBG'), ('.', '.'), ('It', 'PRP'), ('demonstrated', 'VBD'), ('accuracy', 'RP'), ('roughly', 'RB'), ('equal', 'JJ'), ('to', 'TO'), ('the', 'DT'), ('contemporary', 'JJ'), ('Norden', 'NNP'), ('bombsight', 'NN'), (',', ','), ('and', 'CC'), ('was', 'VBD'), ('smaller', 'JJR'), (',', ','), ('easier', 'JJR'), ('to', 'TO'), ('use', 'VB'), (',', ','), ('faster-acting', 'NN'), ('and', 'CC'), ('better', 'RB'), ('suited', 'VBN'), ('to', 'TO'), ('night', 'NN'), ('bombing', 'NN'), ('.', '.')]\n"
     ]
    }
   ],
   "source": [
    "## mark each word with different Tags\n",
    "print(pos)"
   ]
  },
  {
   "cell_type": "code",
   "execution_count": 8,
   "metadata": {},
   "outputs": [],
   "source": [
    "## Count different tokens in the sentence\n",
    "current_id = 0\n",
    "tag_map = {}\n",
    "representation = []\n",
    "for t in pos:\n",
    "    word = t[0]\n",
    "    tag = t[1]\n",
    "    if tag not in tag_map:\n",
    "        tag_map[tag] = current_id\n",
    "        current_id = current_id + 1\n",
    "    representation.append(tag_map[tag])"
   ]
  },
  {
   "cell_type": "code",
   "execution_count": 12,
   "metadata": {
    "scrolled": true
   },
   "outputs": [
    {
     "name": "stdout",
     "output_type": "stream",
     "text": [
      "{'DT': 0, 'NNP': 1, 'NN': 2, 'VBD': 3, 'VBN': 4, 'IN': 5, 'JJ': 6, '.': 7, 'PRP': 8, 'PRP$': 9, ',': 10, 'VBG': 11, 'CD': 12, 'RB': 13, 'TO': 14, 'VB': 15, 'NNS': 16, 'CC': 17, 'WDT': 18, 'RP': 19, 'JJR': 20}\n"
     ]
    }
   ],
   "source": [
    "print(tag_map)"
   ]
  },
  {
   "cell_type": "code",
   "execution_count": 11,
   "metadata": {},
   "outputs": [
    {
     "name": "stdout",
     "output_type": "stream",
     "text": [
      "[0, 1, 1, 2, 2, 3, 4, 5, 1, 1, 1, 1, 1, 5, 0, 6, 1, 1, 7, 8, 3, 9, 6, 2, 5, 0, 6, 2, 5, 0, 1, 10, 11, 0, 6, 1, 1, 1, 11, 5, 12, 7, 13, 0, 6, 2, 5, 0, 1, 10, 8, 3, 0, 6, 2, 14, 15, 0, 16, 5, 2, 7, 8, 3, 13, 12, 16, 5, 6, 2, 5, 0, 2, 2, 10, 17, 13, 3, 5, 6, 16, 17, 16, 7, 8, 3, 0, 6, 2, 2, 18, 3, 0, 2, 3, 5, 0, 2, 5, 0, 2, 3, 10, 13, 11, 9, 2, 17, 2, 5, 11, 7, 8, 3, 19, 13, 6, 14, 0, 6, 1, 2, 10, 17, 3, 20, 10, 20, 14, 15, 10, 2, 17, 13, 4, 14, 2, 2, 7]\n"
     ]
    }
   ],
   "source": [
    "print(representation)"
   ]
  }
 ],
 "metadata": {
  "kernelspec": {
   "display_name": "Python 3",
   "language": "python",
   "name": "python3"
  },
  "language_info": {
   "codemirror_mode": {
    "name": "ipython",
    "version": 3
   },
   "file_extension": ".py",
   "mimetype": "text/x-python",
   "name": "python",
   "nbconvert_exporter": "python",
   "pygments_lexer": "ipython3",
   "version": "3.7.5"
  }
 },
 "nbformat": 4,
 "nbformat_minor": 2
}
