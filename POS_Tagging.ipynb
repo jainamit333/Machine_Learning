{
 "cells": [
  {
   "cell_type": "code",
   "execution_count": 4,
   "metadata": {},
   "outputs": [],
   "source": [
    "from nltk.tokenize import TweetTokenizer\n",
    "from nltk.corpus import words\n",
    "import nltk"
   ]
  },
  {
   "cell_type": "code",
   "execution_count": 5,
   "metadata": {
    "scrolled": true
   },
   "outputs": [
    {
     "name": "stderr",
     "output_type": "stream",
     "text": [
      "[nltk_data] Downloading package words to /Users/amitjain/nltk_data...\n",
      "[nltk_data]   Package words is already up-to-date!\n"
     ]
    },
    {
     "data": {
      "text/plain": [
       "True"
      ]
     },
     "execution_count": 5,
     "metadata": {},
     "output_type": "execute_result"
    }
   ],
   "source": [
    "nltk.download('words')"
   ]
  },
  {
   "cell_type": "code",
   "execution_count": 6,
   "metadata": {},
   "outputs": [],
   "source": [
    "tweet_tknzr = TweetTokenizer()"
   ]
  },
  {
   "cell_type": "code",
   "execution_count": 7,
   "metadata": {},
   "outputs": [],
   "source": [
    "sample_text = \"The Mark XIV bomb sight was developed by Royal Air Force Bomber Command during the Second World War. It was their standard bombsight for the second half of the War, replacing the First World War-era CSBS beginning in 1942. Essentially an automated version of the CSBS, it used a mechanical computer to update the sights in real-time. It required only 10 seconds of straight flight before a bomb drop, and automatically accounted for shallow climbs and dives. It contained a gyro stabilization platform that kept the sight pointed at the target as the bomber manoeuvred, dramatically increasing its accuracy and ease of sighting. It demonstrated accuracy roughly equal to the contemporary Norden bombsight, and was smaller, easier to use, faster-acting and better suited to night bombing. \""
   ]
  },
  {
   "cell_type": "code",
   "execution_count": 8,
   "metadata": {},
   "outputs": [],
   "source": [
    "    tokens = tweet_tknzr.tokenize(sample_text)\n",
    "    pos = nltk.pos_tag(tokens)"
   ]
  },
  {
   "cell_type": "code",
   "execution_count": 9,
   "metadata": {
    "scrolled": true
   },
   "outputs": [
    {
     "data": {
      "text/plain": [
       "[('The', 'DT'),\n",
       " ('Mark', 'NNP'),\n",
       " ('XIV', 'NNP'),\n",
       " ('bomb', 'NN'),\n",
       " ('sight', 'NN'),\n",
       " ('was', 'VBD'),\n",
       " ('developed', 'VBN'),\n",
       " ('by', 'IN'),\n",
       " ('Royal', 'NNP'),\n",
       " ('Air', 'NNP'),\n",
       " ('Force', 'NNP'),\n",
       " ('Bomber', 'NNP'),\n",
       " ('Command', 'NNP'),\n",
       " ('during', 'IN'),\n",
       " ('the', 'DT'),\n",
       " ('Second', 'JJ'),\n",
       " ('World', 'NNP'),\n",
       " ('War', 'NNP'),\n",
       " ('.', '.'),\n",
       " ('It', 'PRP'),\n",
       " ('was', 'VBD'),\n",
       " ('their', 'PRP$'),\n",
       " ('standard', 'JJ'),\n",
       " ('bombsight', 'NN'),\n",
       " ('for', 'IN'),\n",
       " ('the', 'DT'),\n",
       " ('second', 'JJ'),\n",
       " ('half', 'NN'),\n",
       " ('of', 'IN'),\n",
       " ('the', 'DT'),\n",
       " ('War', 'NNP'),\n",
       " (',', ','),\n",
       " ('replacing', 'VBG'),\n",
       " ('the', 'DT'),\n",
       " ('First', 'JJ'),\n",
       " ('World', 'NNP'),\n",
       " ('War-era', 'NNP'),\n",
       " ('CSBS', 'NNP'),\n",
       " ('beginning', 'VBG'),\n",
       " ('in', 'IN'),\n",
       " ('1942', 'CD'),\n",
       " ('.', '.'),\n",
       " ('Essentially', 'RB'),\n",
       " ('an', 'DT'),\n",
       " ('automated', 'JJ'),\n",
       " ('version', 'NN'),\n",
       " ('of', 'IN'),\n",
       " ('the', 'DT'),\n",
       " ('CSBS', 'NNP'),\n",
       " (',', ','),\n",
       " ('it', 'PRP'),\n",
       " ('used', 'VBD'),\n",
       " ('a', 'DT'),\n",
       " ('mechanical', 'JJ'),\n",
       " ('computer', 'NN'),\n",
       " ('to', 'TO'),\n",
       " ('update', 'VB'),\n",
       " ('the', 'DT'),\n",
       " ('sights', 'NNS'),\n",
       " ('in', 'IN'),\n",
       " ('real-time', 'NN'),\n",
       " ('.', '.'),\n",
       " ('It', 'PRP'),\n",
       " ('required', 'VBD'),\n",
       " ('only', 'RB'),\n",
       " ('10', 'CD'),\n",
       " ('seconds', 'NNS'),\n",
       " ('of', 'IN'),\n",
       " ('straight', 'JJ'),\n",
       " ('flight', 'NN'),\n",
       " ('before', 'IN'),\n",
       " ('a', 'DT'),\n",
       " ('bomb', 'NN'),\n",
       " ('drop', 'NN'),\n",
       " (',', ','),\n",
       " ('and', 'CC'),\n",
       " ('automatically', 'RB'),\n",
       " ('accounted', 'VBD'),\n",
       " ('for', 'IN'),\n",
       " ('shallow', 'JJ'),\n",
       " ('climbs', 'NNS'),\n",
       " ('and', 'CC'),\n",
       " ('dives', 'NNS'),\n",
       " ('.', '.'),\n",
       " ('It', 'PRP'),\n",
       " ('contained', 'VBD'),\n",
       " ('a', 'DT'),\n",
       " ('gyro', 'JJ'),\n",
       " ('stabilization', 'NN'),\n",
       " ('platform', 'NN'),\n",
       " ('that', 'WDT'),\n",
       " ('kept', 'VBD'),\n",
       " ('the', 'DT'),\n",
       " ('sight', 'NN'),\n",
       " ('pointed', 'VBD'),\n",
       " ('at', 'IN'),\n",
       " ('the', 'DT'),\n",
       " ('target', 'NN'),\n",
       " ('as', 'IN'),\n",
       " ('the', 'DT'),\n",
       " ('bomber', 'NN'),\n",
       " ('manoeuvred', 'VBD'),\n",
       " (',', ','),\n",
       " ('dramatically', 'RB'),\n",
       " ('increasing', 'VBG'),\n",
       " ('its', 'PRP$'),\n",
       " ('accuracy', 'NN'),\n",
       " ('and', 'CC'),\n",
       " ('ease', 'NN'),\n",
       " ('of', 'IN'),\n",
       " ('sighting', 'VBG'),\n",
       " ('.', '.'),\n",
       " ('It', 'PRP'),\n",
       " ('demonstrated', 'VBD'),\n",
       " ('accuracy', 'RP'),\n",
       " ('roughly', 'RB'),\n",
       " ('equal', 'JJ'),\n",
       " ('to', 'TO'),\n",
       " ('the', 'DT'),\n",
       " ('contemporary', 'JJ'),\n",
       " ('Norden', 'NNP'),\n",
       " ('bombsight', 'NN'),\n",
       " (',', ','),\n",
       " ('and', 'CC'),\n",
       " ('was', 'VBD'),\n",
       " ('smaller', 'JJR'),\n",
       " (',', ','),\n",
       " ('easier', 'JJR'),\n",
       " ('to', 'TO'),\n",
       " ('use', 'VB'),\n",
       " (',', ','),\n",
       " ('faster-acting', 'NN'),\n",
       " ('and', 'CC'),\n",
       " ('better', 'RB'),\n",
       " ('suited', 'VBN'),\n",
       " ('to', 'TO'),\n",
       " ('night', 'NN'),\n",
       " ('bombing', 'NN'),\n",
       " ('.', '.')]"
      ]
     },
     "execution_count": 9,
     "metadata": {},
     "output_type": "execute_result"
    }
   ],
   "source": [
    "## mark each word with different Tags\n",
    "pos"
   ]
  },
  {
   "cell_type": "code",
   "execution_count": 10,
   "metadata": {},
   "outputs": [],
   "source": [
    "## Count different tokens in the sentence\n",
    "tag_map = {}\n",
    "for t in pos:\n",
    "    word = t[0]\n",
    "    tag = t[1]\n",
    "    if tag not in tag_map:\n",
    "        tag_map[tag] = 1\n",
    "    else:\n",
    "        current_count = tag_map[tag]\n",
    "        tag_map[tag] = current_count + 1"
   ]
  },
  {
   "cell_type": "code",
   "execution_count": 11,
   "metadata": {},
   "outputs": [
    {
     "data": {
      "text/plain": [
       "{'DT': 15,\n",
       " 'NNP': 15,\n",
       " 'NN': 21,\n",
       " 'VBD': 11,\n",
       " 'VBN': 2,\n",
       " 'IN': 13,\n",
       " 'JJ': 11,\n",
       " '.': 6,\n",
       " 'PRP': 5,\n",
       " 'PRP$': 2,\n",
       " ',': 7,\n",
       " 'VBG': 4,\n",
       " 'CD': 2,\n",
       " 'RB': 6,\n",
       " 'TO': 4,\n",
       " 'VB': 2,\n",
       " 'NNS': 4,\n",
       " 'CC': 5,\n",
       " 'WDT': 1,\n",
       " 'RP': 1,\n",
       " 'JJR': 2}"
      ]
     },
     "execution_count": 11,
     "metadata": {},
     "output_type": "execute_result"
    }
   ],
   "source": [
    "tag_map"
   ]
  }
 ],
 "metadata": {
  "kernelspec": {
   "display_name": "Python 3",
   "language": "python",
   "name": "python3"
  },
  "language_info": {
   "codemirror_mode": {
    "name": "ipython",
    "version": 3
   },
   "file_extension": ".py",
   "mimetype": "text/x-python",
   "name": "python",
   "nbconvert_exporter": "python",
   "pygments_lexer": "ipython3",
   "version": "3.7.5"
  }
 },
 "nbformat": 4,
 "nbformat_minor": 2
}
