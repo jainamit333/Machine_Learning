{
 "cells": [
  {
   "cell_type": "markdown",
   "metadata": {},
   "source": [
    "## Tags\n",
    "\n",
    "- Multi Classclasification\n",
    "- Dimension Reduction [PCA]\n",
    "- Accuracy, Precision, Recall, F1 Score\n",
    "- Neural Network - Deep Learning using Tensorflow"
   ]
  },
  {
   "cell_type": "code",
   "execution_count": 1,
   "metadata": {
    "scrolled": true
   },
   "outputs": [],
   "source": [
    "import numpy as np\n",
    "import pandas as pd\n",
    "\n",
    "import matplotlib\n",
    "import matplotlib.pyplot as plt\n",
    "import seaborn as sn\n",
    "\n",
    "\n",
    "\n",
    "from sklearn.model_selection import train_test_split\n",
    "from sklearn.utils import shuffle\n",
    "from sklearn.preprocessing import StandardScaler\n",
    "from sklearn.metrics import confusion_matrix\n",
    "from sklearn.decomposition import PCA\n",
    "from sklearn.metrics import classification_report\n",
    "\n",
    "\n",
    "\n",
    "\n",
    "import tensorflow as tf\n",
    "from tensorflow.keras.models import Sequential\n",
    "from tensorflow.keras.layers import Dense"
   ]
  },
  {
   "cell_type": "code",
   "execution_count": 2,
   "metadata": {},
   "outputs": [
    {
     "data": {
      "text/plain": [
       "False"
      ]
     },
     "execution_count": 2,
     "metadata": {},
     "output_type": "execute_result"
    }
   ],
   "source": [
    "tf.compat.v2.test.is_gpu_available(cuda_only=False,min_cuda_compute_capability=None)"
   ]
  },
  {
   "cell_type": "code",
   "execution_count": 3,
   "metadata": {},
   "outputs": [],
   "source": [
    "## load data\n",
    "data = pd.read_csv('data/mnist-in-csv/mnist_train.csv')\n",
    "data_test = pd.read_csv('data/mnist-in-csv/mnist_test.csv')"
   ]
  },
  {
   "cell_type": "code",
   "execution_count": 4,
   "metadata": {
    "scrolled": false
   },
   "outputs": [
    {
     "data": {
      "text/html": [
       "<div>\n",
       "<style scoped>\n",
       "    .dataframe tbody tr th:only-of-type {\n",
       "        vertical-align: middle;\n",
       "    }\n",
       "\n",
       "    .dataframe tbody tr th {\n",
       "        vertical-align: top;\n",
       "    }\n",
       "\n",
       "    .dataframe thead th {\n",
       "        text-align: right;\n",
       "    }\n",
       "</style>\n",
       "<table border=\"1\" class=\"dataframe\">\n",
       "  <thead>\n",
       "    <tr style=\"text-align: right;\">\n",
       "      <th></th>\n",
       "      <th>label</th>\n",
       "      <th>1x1</th>\n",
       "      <th>1x2</th>\n",
       "      <th>1x3</th>\n",
       "      <th>1x4</th>\n",
       "      <th>1x5</th>\n",
       "      <th>1x6</th>\n",
       "      <th>1x7</th>\n",
       "      <th>1x8</th>\n",
       "      <th>1x9</th>\n",
       "      <th>...</th>\n",
       "      <th>28x19</th>\n",
       "      <th>28x20</th>\n",
       "      <th>28x21</th>\n",
       "      <th>28x22</th>\n",
       "      <th>28x23</th>\n",
       "      <th>28x24</th>\n",
       "      <th>28x25</th>\n",
       "      <th>28x26</th>\n",
       "      <th>28x27</th>\n",
       "      <th>28x28</th>\n",
       "    </tr>\n",
       "  </thead>\n",
       "  <tbody>\n",
       "    <tr>\n",
       "      <th>0</th>\n",
       "      <td>5</td>\n",
       "      <td>0</td>\n",
       "      <td>0</td>\n",
       "      <td>0</td>\n",
       "      <td>0</td>\n",
       "      <td>0</td>\n",
       "      <td>0</td>\n",
       "      <td>0</td>\n",
       "      <td>0</td>\n",
       "      <td>0</td>\n",
       "      <td>...</td>\n",
       "      <td>0</td>\n",
       "      <td>0</td>\n",
       "      <td>0</td>\n",
       "      <td>0</td>\n",
       "      <td>0</td>\n",
       "      <td>0</td>\n",
       "      <td>0</td>\n",
       "      <td>0</td>\n",
       "      <td>0</td>\n",
       "      <td>0</td>\n",
       "    </tr>\n",
       "    <tr>\n",
       "      <th>1</th>\n",
       "      <td>0</td>\n",
       "      <td>0</td>\n",
       "      <td>0</td>\n",
       "      <td>0</td>\n",
       "      <td>0</td>\n",
       "      <td>0</td>\n",
       "      <td>0</td>\n",
       "      <td>0</td>\n",
       "      <td>0</td>\n",
       "      <td>0</td>\n",
       "      <td>...</td>\n",
       "      <td>0</td>\n",
       "      <td>0</td>\n",
       "      <td>0</td>\n",
       "      <td>0</td>\n",
       "      <td>0</td>\n",
       "      <td>0</td>\n",
       "      <td>0</td>\n",
       "      <td>0</td>\n",
       "      <td>0</td>\n",
       "      <td>0</td>\n",
       "    </tr>\n",
       "    <tr>\n",
       "      <th>2</th>\n",
       "      <td>4</td>\n",
       "      <td>0</td>\n",
       "      <td>0</td>\n",
       "      <td>0</td>\n",
       "      <td>0</td>\n",
       "      <td>0</td>\n",
       "      <td>0</td>\n",
       "      <td>0</td>\n",
       "      <td>0</td>\n",
       "      <td>0</td>\n",
       "      <td>...</td>\n",
       "      <td>0</td>\n",
       "      <td>0</td>\n",
       "      <td>0</td>\n",
       "      <td>0</td>\n",
       "      <td>0</td>\n",
       "      <td>0</td>\n",
       "      <td>0</td>\n",
       "      <td>0</td>\n",
       "      <td>0</td>\n",
       "      <td>0</td>\n",
       "    </tr>\n",
       "    <tr>\n",
       "      <th>3</th>\n",
       "      <td>1</td>\n",
       "      <td>0</td>\n",
       "      <td>0</td>\n",
       "      <td>0</td>\n",
       "      <td>0</td>\n",
       "      <td>0</td>\n",
       "      <td>0</td>\n",
       "      <td>0</td>\n",
       "      <td>0</td>\n",
       "      <td>0</td>\n",
       "      <td>...</td>\n",
       "      <td>0</td>\n",
       "      <td>0</td>\n",
       "      <td>0</td>\n",
       "      <td>0</td>\n",
       "      <td>0</td>\n",
       "      <td>0</td>\n",
       "      <td>0</td>\n",
       "      <td>0</td>\n",
       "      <td>0</td>\n",
       "      <td>0</td>\n",
       "    </tr>\n",
       "    <tr>\n",
       "      <th>4</th>\n",
       "      <td>9</td>\n",
       "      <td>0</td>\n",
       "      <td>0</td>\n",
       "      <td>0</td>\n",
       "      <td>0</td>\n",
       "      <td>0</td>\n",
       "      <td>0</td>\n",
       "      <td>0</td>\n",
       "      <td>0</td>\n",
       "      <td>0</td>\n",
       "      <td>...</td>\n",
       "      <td>0</td>\n",
       "      <td>0</td>\n",
       "      <td>0</td>\n",
       "      <td>0</td>\n",
       "      <td>0</td>\n",
       "      <td>0</td>\n",
       "      <td>0</td>\n",
       "      <td>0</td>\n",
       "      <td>0</td>\n",
       "      <td>0</td>\n",
       "    </tr>\n",
       "  </tbody>\n",
       "</table>\n",
       "<p>5 rows × 785 columns</p>\n",
       "</div>"
      ],
      "text/plain": [
       "   label  1x1  1x2  1x3  1x4  1x5  1x6  1x7  1x8  1x9  ...  28x19  28x20  \\\n",
       "0      5    0    0    0    0    0    0    0    0    0  ...      0      0   \n",
       "1      0    0    0    0    0    0    0    0    0    0  ...      0      0   \n",
       "2      4    0    0    0    0    0    0    0    0    0  ...      0      0   \n",
       "3      1    0    0    0    0    0    0    0    0    0  ...      0      0   \n",
       "4      9    0    0    0    0    0    0    0    0    0  ...      0      0   \n",
       "\n",
       "   28x21  28x22  28x23  28x24  28x25  28x26  28x27  28x28  \n",
       "0      0      0      0      0      0      0      0      0  \n",
       "1      0      0      0      0      0      0      0      0  \n",
       "2      0      0      0      0      0      0      0      0  \n",
       "3      0      0      0      0      0      0      0      0  \n",
       "4      0      0      0      0      0      0      0      0  \n",
       "\n",
       "[5 rows x 785 columns]"
      ]
     },
     "execution_count": 4,
     "metadata": {},
     "output_type": "execute_result"
    }
   ],
   "source": [
    "## understand data - first overview\n",
    "data.head()"
   ]
  },
  {
   "cell_type": "code",
   "execution_count": 5,
   "metadata": {},
   "outputs": [],
   "source": [
    "## Shuffle the data\n",
    "data = shuffle(data)"
   ]
  },
  {
   "cell_type": "code",
   "execution_count": 6,
   "metadata": {},
   "outputs": [
    {
     "name": "stdout",
     "output_type": "stream",
     "text": [
      "Shape of the complete dataset:  (60000, 785)\n"
     ]
    }
   ],
   "source": [
    "## Shape of the data\n",
    "print('Shape of the complete dataset: ',data.shape)"
   ]
  },
  {
   "cell_type": "code",
   "execution_count": 7,
   "metadata": {},
   "outputs": [],
   "source": [
    "## Seperating Features and labels\n",
    "y = data[['label']]\n",
    "X = data.drop(['label'], axis = 1) "
   ]
  },
  {
   "cell_type": "code",
   "execution_count": 8,
   "metadata": {},
   "outputs": [],
   "source": [
    "## For Test Data\n",
    "y_test = data_test[['label']]\n",
    "X_test = data_test.drop(['label'], axis = 1) "
   ]
  },
  {
   "cell_type": "code",
   "execution_count": 9,
   "metadata": {},
   "outputs": [
    {
     "name": "stdout",
     "output_type": "stream",
     "text": [
      "Shape of the Features:  (60000, 784)\n",
      "Shape of the Label:  (60000, 1)\n"
     ]
    }
   ],
   "source": [
    "print('Shape of the Features: ', X.shape)\n",
    "print('Shape of the Label: ', y.shape)"
   ]
  },
  {
   "cell_type": "code",
   "execution_count": 10,
   "metadata": {},
   "outputs": [
    {
     "data": {
      "text/plain": [
       "array([7, 0, 1, 2, 9, 6, 5, 3, 8, 4], dtype=int64)"
      ]
     },
     "execution_count": 10,
     "metadata": {},
     "output_type": "execute_result"
    }
   ],
   "source": [
    "y.label.unique()"
   ]
  },
  {
   "cell_type": "markdown",
   "metadata": {},
   "source": [
    "### Data Analysis - First Level\n",
    "\n",
    "- number of examples are arounf 60,000 which is good\n",
    "- number of features seems to be on the higher side, we have to check how to work with that.\n",
    "- we have in total 10 classes , one for each number for 0 to 9"
   ]
  },
  {
   "cell_type": "code",
   "execution_count": 11,
   "metadata": {
    "scrolled": true
   },
   "outputs": [
    {
     "data": {
      "image/png": "[encoded data removed]",
      "text/plain": [
       "<Figure size 432x288 with 1 Axes>"
      ]
     },
     "metadata": {
      "needs_background": "light"
     },
     "output_type": "display_data"
    },
    {
     "data": {
      "image/png": "[encoded data removed]",
      "text/plain": [
       "<Figure size 432x288 with 1 Axes>"
      ]
     },
     "metadata": {
      "needs_background": "light"
     },
     "output_type": "display_data"
    }
   ],
   "source": [
    "%matplotlib inline\n",
    "\n",
    "some_digit = X.values[10].reshape(28,28)\n",
    "plt.imshow(some_digit, cmap=matplotlib.cm.binary, interpolation='nearest')\n",
    "plt.show()\n",
    "\n",
    "some_digit = X.values[110].reshape(28,28)\n",
    "plt.imshow(some_digit, cmap=matplotlib.cm.binary, interpolation='nearest')\n",
    "plt.show()\n"
   ]
  },
  {
   "cell_type": "markdown",
   "metadata": {},
   "source": [
    "### Data Analysis - Second Level\n",
    "\n",
    "- feature represent the 784 coloums which is binary of 28 * 28 image cell. \n",
    "- current image is the gray scale image.\n",
    "- most the pixels are empty always , as small area is used for the representation of the number."
   ]
  },
  {
   "cell_type": "code",
   "execution_count": 12,
   "metadata": {
    "scrolled": false
   },
   "outputs": [
    {
     "data": {
      "text/plain": [
       "<matplotlib.axes._subplots.AxesSubplot at 0x18f1dbaf108>"
      ]
     },
     "execution_count": 12,
     "metadata": {},
     "output_type": "execute_result"
    },
    {
     "data": {
      "image/png": "[encoded data removed]",
      "text/plain": [
       "<Figure size 432x288 with 1 Axes>"
      ]
     },
     "metadata": {
      "needs_background": "light"
     },
     "output_type": "display_data"
    }
   ],
   "source": [
    "## to uderstand the data distribution of each class in the dataset\n",
    "sn.countplot(x=\"label\", data=y)"
   ]
  },
  {
   "cell_type": "code",
   "execution_count": 13,
   "metadata": {},
   "outputs": [],
   "source": [
    "desc = X.describe()"
   ]
  },
  {
   "cell_type": "code",
   "execution_count": 14,
   "metadata": {
    "scrolled": true
   },
   "outputs": [
    {
     "data": {
      "text/html": [
       "<div>\n",
       "<style scoped>\n",
       "    .dataframe tbody tr th:only-of-type {\n",
       "        vertical-align: middle;\n",
       "    }\n",
       "\n",
       "    .dataframe tbody tr th {\n",
       "        vertical-align: top;\n",
       "    }\n",
       "\n",
       "    .dataframe thead th {\n",
       "        text-align: right;\n",
       "    }\n",
       "</style>\n",
       "<table border=\"1\" class=\"dataframe\">\n",
       "  <thead>\n",
       "    <tr style=\"text-align: right;\">\n",
       "      <th></th>\n",
       "      <th>1x1</th>\n",
       "      <th>1x2</th>\n",
       "      <th>1x3</th>\n",
       "      <th>1x4</th>\n",
       "      <th>1x5</th>\n",
       "      <th>1x6</th>\n",
       "      <th>1x7</th>\n",
       "      <th>1x8</th>\n",
       "      <th>1x9</th>\n",
       "      <th>1x10</th>\n",
       "      <th>...</th>\n",
       "      <th>28x19</th>\n",
       "      <th>28x20</th>\n",
       "      <th>28x21</th>\n",
       "      <th>28x22</th>\n",
       "      <th>28x23</th>\n",
       "      <th>28x24</th>\n",
       "      <th>28x25</th>\n",
       "      <th>28x26</th>\n",
       "      <th>28x27</th>\n",
       "      <th>28x28</th>\n",
       "    </tr>\n",
       "  </thead>\n",
       "  <tbody>\n",
       "    <tr>\n",
       "      <th>count</th>\n",
       "      <td>60000.0</td>\n",
       "      <td>60000.0</td>\n",
       "      <td>60000.0</td>\n",
       "      <td>60000.0</td>\n",
       "      <td>60000.0</td>\n",
       "      <td>60000.0</td>\n",
       "      <td>60000.0</td>\n",
       "      <td>60000.0</td>\n",
       "      <td>60000.0</td>\n",
       "      <td>60000.0</td>\n",
       "      <td>...</td>\n",
       "      <td>60000.000000</td>\n",
       "      <td>60000.000000</td>\n",
       "      <td>60000.000000</td>\n",
       "      <td>60000.000000</td>\n",
       "      <td>60000.000000</td>\n",
       "      <td>60000.0000</td>\n",
       "      <td>60000.0</td>\n",
       "      <td>60000.0</td>\n",
       "      <td>60000.0</td>\n",
       "      <td>60000.0</td>\n",
       "    </tr>\n",
       "    <tr>\n",
       "      <th>mean</th>\n",
       "      <td>0.0</td>\n",
       "      <td>0.0</td>\n",
       "      <td>0.0</td>\n",
       "      <td>0.0</td>\n",
       "      <td>0.0</td>\n",
       "      <td>0.0</td>\n",
       "      <td>0.0</td>\n",
       "      <td>0.0</td>\n",
       "      <td>0.0</td>\n",
       "      <td>0.0</td>\n",
       "      <td>...</td>\n",
       "      <td>0.200433</td>\n",
       "      <td>0.088867</td>\n",
       "      <td>0.045633</td>\n",
       "      <td>0.019283</td>\n",
       "      <td>0.015117</td>\n",
       "      <td>0.0020</td>\n",
       "      <td>0.0</td>\n",
       "      <td>0.0</td>\n",
       "      <td>0.0</td>\n",
       "      <td>0.0</td>\n",
       "    </tr>\n",
       "    <tr>\n",
       "      <th>std</th>\n",
       "      <td>0.0</td>\n",
       "      <td>0.0</td>\n",
       "      <td>0.0</td>\n",
       "      <td>0.0</td>\n",
       "      <td>0.0</td>\n",
       "      <td>0.0</td>\n",
       "      <td>0.0</td>\n",
       "      <td>0.0</td>\n",
       "      <td>0.0</td>\n",
       "      <td>0.0</td>\n",
       "      <td>...</td>\n",
       "      <td>6.042472</td>\n",
       "      <td>3.956189</td>\n",
       "      <td>2.839845</td>\n",
       "      <td>1.686770</td>\n",
       "      <td>1.678283</td>\n",
       "      <td>0.3466</td>\n",
       "      <td>0.0</td>\n",
       "      <td>0.0</td>\n",
       "      <td>0.0</td>\n",
       "      <td>0.0</td>\n",
       "    </tr>\n",
       "    <tr>\n",
       "      <th>min</th>\n",
       "      <td>0.0</td>\n",
       "      <td>0.0</td>\n",
       "      <td>0.0</td>\n",
       "      <td>0.0</td>\n",
       "      <td>0.0</td>\n",
       "      <td>0.0</td>\n",
       "      <td>0.0</td>\n",
       "      <td>0.0</td>\n",
       "      <td>0.0</td>\n",
       "      <td>0.0</td>\n",
       "      <td>...</td>\n",
       "      <td>0.000000</td>\n",
       "      <td>0.000000</td>\n",
       "      <td>0.000000</td>\n",
       "      <td>0.000000</td>\n",
       "      <td>0.000000</td>\n",
       "      <td>0.0000</td>\n",
       "      <td>0.0</td>\n",
       "      <td>0.0</td>\n",
       "      <td>0.0</td>\n",
       "      <td>0.0</td>\n",
       "    </tr>\n",
       "    <tr>\n",
       "      <th>25%</th>\n",
       "      <td>0.0</td>\n",
       "      <td>0.0</td>\n",
       "      <td>0.0</td>\n",
       "      <td>0.0</td>\n",
       "      <td>0.0</td>\n",
       "      <td>0.0</td>\n",
       "      <td>0.0</td>\n",
       "      <td>0.0</td>\n",
       "      <td>0.0</td>\n",
       "      <td>0.0</td>\n",
       "      <td>...</td>\n",
       "      <td>0.000000</td>\n",
       "      <td>0.000000</td>\n",
       "      <td>0.000000</td>\n",
       "      <td>0.000000</td>\n",
       "      <td>0.000000</td>\n",
       "      <td>0.0000</td>\n",
       "      <td>0.0</td>\n",
       "      <td>0.0</td>\n",
       "      <td>0.0</td>\n",
       "      <td>0.0</td>\n",
       "    </tr>\n",
       "    <tr>\n",
       "      <th>50%</th>\n",
       "      <td>0.0</td>\n",
       "      <td>0.0</td>\n",
       "      <td>0.0</td>\n",
       "      <td>0.0</td>\n",
       "      <td>0.0</td>\n",
       "      <td>0.0</td>\n",
       "      <td>0.0</td>\n",
       "      <td>0.0</td>\n",
       "      <td>0.0</td>\n",
       "      <td>0.0</td>\n",
       "      <td>...</td>\n",
       "      <td>0.000000</td>\n",
       "      <td>0.000000</td>\n",
       "      <td>0.000000</td>\n",
       "      <td>0.000000</td>\n",
       "      <td>0.000000</td>\n",
       "      <td>0.0000</td>\n",
       "      <td>0.0</td>\n",
       "      <td>0.0</td>\n",
       "      <td>0.0</td>\n",
       "      <td>0.0</td>\n",
       "    </tr>\n",
       "    <tr>\n",
       "      <th>75%</th>\n",
       "      <td>0.0</td>\n",
       "      <td>0.0</td>\n",
       "      <td>0.0</td>\n",
       "      <td>0.0</td>\n",
       "      <td>0.0</td>\n",
       "      <td>0.0</td>\n",
       "      <td>0.0</td>\n",
       "      <td>0.0</td>\n",
       "      <td>0.0</td>\n",
       "      <td>0.0</td>\n",
       "      <td>...</td>\n",
       "      <td>0.000000</td>\n",
       "      <td>0.000000</td>\n",
       "      <td>0.000000</td>\n",
       "      <td>0.000000</td>\n",
       "      <td>0.000000</td>\n",
       "      <td>0.0000</td>\n",
       "      <td>0.0</td>\n",
       "      <td>0.0</td>\n",
       "      <td>0.0</td>\n",
       "      <td>0.0</td>\n",
       "    </tr>\n",
       "    <tr>\n",
       "      <th>max</th>\n",
       "      <td>0.0</td>\n",
       "      <td>0.0</td>\n",
       "      <td>0.0</td>\n",
       "      <td>0.0</td>\n",
       "      <td>0.0</td>\n",
       "      <td>0.0</td>\n",
       "      <td>0.0</td>\n",
       "      <td>0.0</td>\n",
       "      <td>0.0</td>\n",
       "      <td>0.0</td>\n",
       "      <td>...</td>\n",
       "      <td>254.000000</td>\n",
       "      <td>254.000000</td>\n",
       "      <td>253.000000</td>\n",
       "      <td>253.000000</td>\n",
       "      <td>254.000000</td>\n",
       "      <td>62.0000</td>\n",
       "      <td>0.0</td>\n",
       "      <td>0.0</td>\n",
       "      <td>0.0</td>\n",
       "      <td>0.0</td>\n",
       "    </tr>\n",
       "  </tbody>\n",
       "</table>\n",
       "<p>8 rows × 784 columns</p>\n",
       "</div>"
      ],
      "text/plain": [
       "           1x1      1x2      1x3      1x4      1x5      1x6      1x7      1x8  \\\n",
       "count  60000.0  60000.0  60000.0  60000.0  60000.0  60000.0  60000.0  60000.0   \n",
       "mean       0.0      0.0      0.0      0.0      0.0      0.0      0.0      0.0   \n",
       "std        0.0      0.0      0.0      0.0      0.0      0.0      0.0      0.0   \n",
       "min        0.0      0.0      0.0      0.0      0.0      0.0      0.0      0.0   \n",
       "25%        0.0      0.0      0.0      0.0      0.0      0.0      0.0      0.0   \n",
       "50%        0.0      0.0      0.0      0.0      0.0      0.0      0.0      0.0   \n",
       "75%        0.0      0.0      0.0      0.0      0.0      0.0      0.0      0.0   \n",
       "max        0.0      0.0      0.0      0.0      0.0      0.0      0.0      0.0   \n",
       "\n",
       "           1x9     1x10  ...         28x19         28x20         28x21  \\\n",
       "count  60000.0  60000.0  ...  60000.000000  60000.000000  60000.000000   \n",
       "mean       0.0      0.0  ...      0.200433      0.088867      0.045633   \n",
       "std        0.0      0.0  ...      6.042472      3.956189      2.839845   \n",
       "min        0.0      0.0  ...      0.000000      0.000000      0.000000   \n",
       "25%        0.0      0.0  ...      0.000000      0.000000      0.000000   \n",
       "50%        0.0      0.0  ...      0.000000      0.000000      0.000000   \n",
       "75%        0.0      0.0  ...      0.000000      0.000000      0.000000   \n",
       "max        0.0      0.0  ...    254.000000    254.000000    253.000000   \n",
       "\n",
       "              28x22         28x23       28x24    28x25    28x26    28x27  \\\n",
       "count  60000.000000  60000.000000  60000.0000  60000.0  60000.0  60000.0   \n",
       "mean       0.019283      0.015117      0.0020      0.0      0.0      0.0   \n",
       "std        1.686770      1.678283      0.3466      0.0      0.0      0.0   \n",
       "min        0.000000      0.000000      0.0000      0.0      0.0      0.0   \n",
       "25%        0.000000      0.000000      0.0000      0.0      0.0      0.0   \n",
       "50%        0.000000      0.000000      0.0000      0.0      0.0      0.0   \n",
       "75%        0.000000      0.000000      0.0000      0.0      0.0      0.0   \n",
       "max      253.000000    254.000000     62.0000      0.0      0.0      0.0   \n",
       "\n",
       "         28x28  \n",
       "count  60000.0  \n",
       "mean       0.0  \n",
       "std        0.0  \n",
       "min        0.0  \n",
       "25%        0.0  \n",
       "50%        0.0  \n",
       "75%        0.0  \n",
       "max        0.0  \n",
       "\n",
       "[8 rows x 784 columns]"
      ]
     },
     "execution_count": 14,
     "metadata": {},
     "output_type": "execute_result"
    }
   ],
   "source": [
    "desc.head(10)"
   ]
  },
  {
   "cell_type": "code",
   "execution_count": 15,
   "metadata": {},
   "outputs": [
    {
     "data": {
      "text/plain": [
       "<matplotlib.image.AxesImage at 0x18f1e061c88>"
      ]
     },
     "execution_count": 15,
     "metadata": {},
     "output_type": "execute_result"
    },
    {
     "data": {
      "image/png": "[encoded data removed]",
      "text/plain": [
       "<Figure size 432x288 with 1 Axes>"
      ]
     },
     "metadata": {
      "needs_background": "light"
     },
     "output_type": "display_data"
    }
   ],
   "source": [
    "## As we can see , plotting the max value for each pixel , edges and boundaries never had any value.\n",
    "plt.imshow(desc.values[7].reshape(28,28), cmap=matplotlib.cm.Blues, interpolation='nearest')"
   ]
  },
  {
   "cell_type": "code",
   "execution_count": 16,
   "metadata": {
    "scrolled": true
   },
   "outputs": [
    {
     "data": {
      "text/plain": [
       "<matplotlib.image.AxesImage at 0x18f1da3a3c8>"
      ]
     },
     "execution_count": 16,
     "metadata": {},
     "output_type": "execute_result"
    },
    {
     "data": {
      "image/png": "[encoded data removed]",
      "text/plain": [
       "<Figure size 432x288 with 1 Axes>"
      ]
     },
     "metadata": {
      "needs_background": "light"
     },
     "output_type": "display_data"
    }
   ],
   "source": [
    "## As we can see , plotting the mean value for each pixel , edges and boundaries never had any value.\n",
    "## mostly values are concentrated in the middle part of the iage only.\n",
    "plt.imshow(desc.values[1].reshape(28,28), cmap=matplotlib.cm.Blues, interpolation='nearest')"
   ]
  },
  {
   "cell_type": "markdown",
   "metadata": {},
   "source": [
    "### Data Analysis\n",
    "\n",
    "- We have almost equal number of examples for each class.\n",
    "- By seeing the graph of max and mean value at each pixel , we can confirm edges are almost never used , mostly data is concentrated in the middle only."
   ]
  },
  {
   "cell_type": "code",
   "execution_count": 17,
   "metadata": {},
   "outputs": [],
   "source": [
    " X_train, X_val, y_train, y_val = train_test_split(X, y, test_size=0.20, random_state=42)"
   ]
  },
  {
   "cell_type": "code",
   "execution_count": 18,
   "metadata": {},
   "outputs": [
    {
     "name": "stdout",
     "output_type": "stream",
     "text": [
      "Shape of training features  (48000, 784)\n",
      "Shape of validation features  (12000, 784)\n",
      "Shape of training label (48000, 1)\n",
      "Shape of validation label (12000, 1)\n"
     ]
    }
   ],
   "source": [
    "print('Shape of training features ', X_train.shape)\n",
    "print('Shape of validation features ', X_val.shape)\n",
    "\n",
    "print('Shape of training label', y_train.shape)\n",
    "print('Shape of validation label', y_val.shape)"
   ]
  },
  {
   "cell_type": "code",
   "execution_count": 19,
   "metadata": {},
   "outputs": [],
   "source": [
    "## scale the data, same scaler should be used for test data also\n",
    "scaler = StandardScaler()\n",
    "X_train = scaler.fit_transform(X_train)\n",
    "X_val = scaler.transform(X_val)"
   ]
  },
  {
   "cell_type": "code",
   "execution_count": 20,
   "metadata": {},
   "outputs": [],
   "source": [
    "X_test = scaler.transform(X_test)"
   ]
  },
  {
   "cell_type": "code",
   "execution_count": 21,
   "metadata": {
    "scrolled": true
   },
   "outputs": [
    {
     "name": "stdout",
     "output_type": "stream",
     "text": [
      "Model: \"sequential\"\n",
      "_________________________________________________________________\n",
      "Layer (type)                 Output Shape              Param #   \n",
      "=================================================================\n",
      "dense (Dense)                (None, 256)               200960    \n",
      "_________________________________________________________________\n",
      "dense_1 (Dense)              (None, 126)               32382     \n",
      "_________________________________________________________________\n",
      "dense_2 (Dense)              (None, 54)                6858      \n",
      "_________________________________________________________________\n",
      "dense_3 (Dense)              (None, 10)                550       \n",
      "=================================================================\n",
      "Total params: 240,750\n",
      "Trainable params: 240,750\n",
      "Non-trainable params: 0\n",
      "_________________________________________________________________\n"
     ]
    }
   ],
   "source": [
    "input_dimension = X_train.shape[1] # this represent number of features\n",
    "\n",
    "### hyper parameters\n",
    "epochs = 20\n",
    "batch_size = 256\n",
    "\n",
    "### model\n",
    "model = Sequential()\n",
    "model.add(Dense(256, input_shape=(input_dimension,), activation='relu', kernel_regularizer= tf.keras.regularizers.l1(0.001)))\n",
    "model.add(Dense(126, activation='relu'))\n",
    "model.add(Dense(54, activation='relu',kernel_regularizer= tf.keras.regularizers.l1(0.01)))\n",
    "model.add(Dense(10, activation='softmax'))\n",
    "model.compile(optimizer=tf.keras.optimizers.Adam(0.01),loss='sparse_categorical_crossentropy',\n",
    "              metrics=['accuracy'])\n",
    "model.summary()"
   ]
  },
  {
   "cell_type": "code",
   "execution_count": 22,
   "metadata": {
    "scrolled": true
   },
   "outputs": [
    {
     "name": "stdout",
     "output_type": "stream",
     "text": [
      "Train on 48000 samples, validate on 12000 samples\n",
      "Epoch 1/20\n",
      "48000/48000 [==============================] - 3s 73us/sample - loss: 2.3877 - accuracy: 0.8848 - val_loss: 1.4056 - val_accuracy: 0.9112\n",
      "Epoch 2/20\n",
      "48000/48000 [==============================] - 2s 35us/sample - loss: 1.3103 - accuracy: 0.9218 - val_loss: 1.1717 - val_accuracy: 0.9263\n",
      "Epoch 3/20\n",
      "48000/48000 [==============================] - 2s 40us/sample - loss: 1.1607 - accuracy: 0.9283 - val_loss: 1.2972 - val_accuracy: 0.9240\n",
      "Epoch 4/20\n",
      "48000/48000 [==============================] - 2s 40us/sample - loss: 1.1959 - accuracy: 0.9306 - val_loss: 1.1689 - val_accuracy: 0.9333\n",
      "Epoch 5/20\n",
      "48000/48000 [==============================] - 2s 35us/sample - loss: 1.1492 - accuracy: 0.9330 - val_loss: 1.0793 - val_accuracy: 0.9381\n",
      "Epoch 6/20\n",
      "48000/48000 [==============================] - 2s 35us/sample - loss: 1.1257 - accuracy: 0.9333 - val_loss: 1.1650 - val_accuracy: 0.9327\n",
      "Epoch 7/20\n",
      "48000/48000 [==============================] - 2s 35us/sample - loss: 1.1437 - accuracy: 0.9350 - val_loss: 1.1482 - val_accuracy: 0.9263\n",
      "Epoch 8/20\n",
      "48000/48000 [==============================] - 2s 37us/sample - loss: 1.1284 - accuracy: 0.9346 - val_loss: 1.2138 - val_accuracy: 0.9275\n",
      "Epoch 9/20\n",
      "48000/48000 [==============================] - 2s 36us/sample - loss: 1.1660 - accuracy: 0.9335 - val_loss: 1.2180 - val_accuracy: 0.9320\n",
      "Epoch 10/20\n",
      "48000/48000 [==============================] - 2s 35us/sample - loss: 1.1660 - accuracy: 0.9365 - val_loss: 1.2485 - val_accuracy: 0.9253\n",
      "Epoch 11/20\n",
      "48000/48000 [==============================] - 2s 35us/sample - loss: 1.1698 - accuracy: 0.9358 - val_loss: 1.1012 - val_accuracy: 0.9435\n",
      "Epoch 12/20\n",
      "48000/48000 [==============================] - 2s 36us/sample - loss: 1.1108 - accuracy: 0.9361 - val_loss: 1.1919 - val_accuracy: 0.9369\n",
      "Epoch 13/20\n",
      "48000/48000 [==============================] - 2s 36us/sample - loss: 1.1169 - accuracy: 0.9359 - val_loss: 1.1354 - val_accuracy: 0.9372\n",
      "Epoch 14/20\n",
      "48000/48000 [==============================] - 2s 37us/sample - loss: 1.0928 - accuracy: 0.9387 - val_loss: 1.1316 - val_accuracy: 0.9335\n",
      "Epoch 15/20\n",
      "48000/48000 [==============================] - 2s 36us/sample - loss: 1.0959 - accuracy: 0.9363 - val_loss: 1.0627 - val_accuracy: 0.9407\n",
      "Epoch 16/20\n",
      "48000/48000 [==============================] - 2s 35us/sample - loss: 1.0616 - accuracy: 0.9382 - val_loss: 1.0478 - val_accuracy: 0.9411\n",
      "Epoch 17/20\n",
      "48000/48000 [==============================] - 2s 36us/sample - loss: 1.0635 - accuracy: 0.9393 - val_loss: 0.9973 - val_accuracy: 0.9411\n",
      "Epoch 18/20\n",
      "48000/48000 [==============================] - 2s 36us/sample - loss: 1.0674 - accuracy: 0.9366 - val_loss: 1.1103 - val_accuracy: 0.9321\n",
      "Epoch 19/20\n",
      "48000/48000 [==============================] - 2s 35us/sample - loss: 1.0461 - accuracy: 0.9381 - val_loss: 1.1349 - val_accuracy: 0.9312\n",
      "Epoch 20/20\n",
      "48000/48000 [==============================] - 2s 38us/sample - loss: 1.0631 - accuracy: 0.9371 - val_loss: 1.0653 - val_accuracy: 0.9373\n"
     ]
    }
   ],
   "source": [
    "history = model.fit(X_train, y_train.values, epochs=epochs, batch_size=batch_size,\n",
    "          validation_data=(X_val, y_val.values))"
   ]
  },
  {
   "cell_type": "code",
   "execution_count": 23,
   "metadata": {
    "scrolled": true
   },
   "outputs": [
    {
     "data": {
      "text/plain": [
       "<matplotlib.legend.Legend at 0x18f9c6e66c8>"
      ]
     },
     "execution_count": 23,
     "metadata": {},
     "output_type": "execute_result"
    },
    {
     "data": {
      "image/png": "[encoded data removed]",
      "text/plain": [
       "<Figure size 432x288 with 1 Axes>"
      ]
     },
     "metadata": {
      "needs_background": "light"
     },
     "output_type": "display_data"
    }
   ],
   "source": [
    "plt.plot( history.history['accuracy'], color='skyblue', linewidth=2, label='training acc')\n",
    "plt.plot( history.history['val_accuracy'], color='green', linewidth=2, label='val acc')\n",
    "\n",
    "plt.plot( history.history['loss'], color='skyblue', linewidth=2, linestyle='dashed', label=\"training loss\")\n",
    "plt.plot( history.history['val_loss'], color='green', linewidth=2, linestyle='dashed', label=\"val loss\")\n",
    "plt.legend()\n"
   ]
  },
  {
   "cell_type": "markdown",
   "metadata": {},
   "source": [
    "### Understand the affect of Change in learning rate\n",
    "- We will try to change the batch size , and understand the affect on model."
   ]
  },
  {
   "cell_type": "code",
   "execution_count": 24,
   "metadata": {
    "scrolled": false
   },
   "outputs": [
    {
     "name": "stdout",
     "output_type": "stream",
     "text": [
      "Model: \"sequential_1\"\n",
      "_________________________________________________________________\n",
      "Layer (type)                 Output Shape              Param #   \n",
      "=================================================================\n",
      "dense_4 (Dense)              (None, 256)               200960    \n",
      "_________________________________________________________________\n",
      "dense_5 (Dense)              (None, 126)               32382     \n",
      "_________________________________________________________________\n",
      "dense_6 (Dense)              (None, 54)                6858      \n",
      "_________________________________________________________________\n",
      "dense_7 (Dense)              (None, 10)                550       \n",
      "=================================================================\n",
      "Total params: 240,750\n",
      "Trainable params: 240,750\n",
      "Non-trainable params: 0\n",
      "_________________________________________________________________\n"
     ]
    }
   ],
   "source": [
    "input_dimension = X_train.shape[1] # this represent number of features\n",
    "\n",
    "### hyper parameters\n",
    "epochs = 20\n",
    "batch_size = 256\n",
    "\n",
    "### model\n",
    "model = Sequential()\n",
    "model.add(Dense(256, input_shape=(input_dimension,), activation='relu', kernel_regularizer= tf.keras.regularizers.l1(0.001)))\n",
    "model.add(Dense(126, activation='relu'))\n",
    "model.add(Dense(54, activation='relu',kernel_regularizer= tf.keras.regularizers.l1(0.001)))\n",
    "model.add(Dense(10, activation='softmax'))\n",
    "model.compile(optimizer=tf.keras.optimizers.Adam(0.001),loss='sparse_categorical_crossentropy',\n",
    "              metrics=['accuracy'])\n",
    "model.summary()"
   ]
  },
  {
   "cell_type": "code",
   "execution_count": 25,
   "metadata": {
    "scrolled": true
   },
   "outputs": [
    {
     "name": "stdout",
     "output_type": "stream",
     "text": [
      "Train on 48000 samples, validate on 12000 samples\n",
      "Epoch 1/20\n",
      "48000/48000 [==============================] - 4s 75us/sample - loss: 3.1476 - accuracy: 0.8984 - val_loss: 1.0308 - val_accuracy: 0.9370\n",
      "Epoch 2/20\n",
      "48000/48000 [==============================] - 2s 49us/sample - loss: 0.8884 - accuracy: 0.9418 - val_loss: 0.7694 - val_accuracy: 0.9451\n",
      "Epoch 3/20\n",
      "48000/48000 [==============================] - 2s 45us/sample - loss: 0.6936 - accuracy: 0.9509 - val_loss: 0.6388 - val_accuracy: 0.9585\n",
      "Epoch 4/20\n",
      "48000/48000 [==============================] - 2s 37us/sample - loss: 0.5971 - accuracy: 0.9566 - val_loss: 0.5793 - val_accuracy: 0.9562\n",
      "Epoch 5/20\n",
      "48000/48000 [==============================] - 2s 42us/sample - loss: 0.5181 - accuracy: 0.9604 - val_loss: 0.5260 - val_accuracy: 0.9603\n",
      "Epoch 6/20\n",
      "48000/48000 [==============================] - 2s 39us/sample - loss: 0.4809 - accuracy: 0.9616 - val_loss: 0.4805 - val_accuracy: 0.9611\n",
      "Epoch 7/20\n",
      "48000/48000 [==============================] - 2s 40us/sample - loss: 0.4526 - accuracy: 0.9629 - val_loss: 0.4627 - val_accuracy: 0.9602\n",
      "Epoch 8/20\n",
      "48000/48000 [==============================] - 2s 45us/sample - loss: 0.4401 - accuracy: 0.9638 - val_loss: 0.4375 - val_accuracy: 0.9643\n",
      "Epoch 9/20\n",
      "48000/48000 [==============================] - 2s 39us/sample - loss: 0.4157 - accuracy: 0.9656 - val_loss: 0.4228 - val_accuracy: 0.9636\n",
      "Epoch 10/20\n",
      "48000/48000 [==============================] - 2s 41us/sample - loss: 0.3991 - accuracy: 0.9662 - val_loss: 0.4026 - val_accuracy: 0.9644\n",
      "Epoch 11/20\n",
      "48000/48000 [==============================] - 2s 41us/sample - loss: 0.3941 - accuracy: 0.9668 - val_loss: 0.4076 - val_accuracy: 0.9647\n",
      "Epoch 12/20\n",
      "48000/48000 [==============================] - 2s 38us/sample - loss: 0.3933 - accuracy: 0.9669 - val_loss: 0.4135 - val_accuracy: 0.9627\n",
      "Epoch 13/20\n",
      "48000/48000 [==============================] - 2s 40us/sample - loss: 0.3906 - accuracy: 0.9670 - val_loss: 0.4460 - val_accuracy: 0.9636\n",
      "Epoch 14/20\n",
      "48000/48000 [==============================] - 2s 37us/sample - loss: 0.3758 - accuracy: 0.9690 - val_loss: 0.3903 - val_accuracy: 0.9640\n",
      "Epoch 15/20\n",
      "48000/48000 [==============================] - 2s 37us/sample - loss: 0.3706 - accuracy: 0.9690 - val_loss: 0.3936 - val_accuracy: 0.9659\n",
      "Epoch 16/20\n",
      "48000/48000 [==============================] - 2s 37us/sample - loss: 0.3631 - accuracy: 0.9685 - val_loss: 0.4048 - val_accuracy: 0.9647\n",
      "Epoch 17/20\n",
      "48000/48000 [==============================] - 2s 37us/sample - loss: 0.3646 - accuracy: 0.9702 - val_loss: 0.3649 - val_accuracy: 0.9694\n",
      "Epoch 18/20\n",
      "48000/48000 [==============================] - 2s 36us/sample - loss: 0.3464 - accuracy: 0.9710 - val_loss: 0.3726 - val_accuracy: 0.9676\n",
      "Epoch 19/20\n",
      "48000/48000 [==============================] - 2s 36us/sample - loss: 0.3487 - accuracy: 0.9706 - val_loss: 0.3909 - val_accuracy: 0.9658\n",
      "Epoch 20/20\n",
      "48000/48000 [==============================] - 2s 36us/sample - loss: 0.3425 - accuracy: 0.9706 - val_loss: 0.3502 - val_accuracy: 0.9675\n"
     ]
    }
   ],
   "source": [
    "history = model.fit(X_train, y_train.values, epochs=epochs, batch_size=batch_size,\n",
    "          validation_data=(X_val, y_val.values))"
   ]
  },
  {
   "cell_type": "code",
   "execution_count": 26,
   "metadata": {
    "scrolled": false
   },
   "outputs": [
    {
     "data": {
      "text/plain": [
       "<matplotlib.legend.Legend at 0x18f8e7fdb08>"
      ]
     },
     "execution_count": 26,
     "metadata": {},
     "output_type": "execute_result"
    },
    {
     "data": {
      "image/png": "[encoded data removed]",
      "text/plain": [
       "<Figure size 432x288 with 1 Axes>"
      ]
     },
     "metadata": {
      "needs_background": "light"
     },
     "output_type": "display_data"
    }
   ],
   "source": [
    "plt.plot( history.history['accuracy'], color='skyblue', linewidth=2, label='training acc')\n",
    "plt.plot( history.history['val_accuracy'], color='green', linewidth=2, label='val acc')\n",
    "\n",
    "plt.plot( history.history['loss'], color='skyblue', linewidth=2, linestyle='dashed', label=\"training loss\")\n",
    "plt.plot( history.history['val_loss'], color='green', linewidth=2, linestyle='dashed', label=\"val loss\")\n",
    "plt.legend()"
   ]
  },
  {
   "cell_type": "markdown",
   "metadata": {},
   "source": [
    "As can be seen in the first examples the loss curve is not smooth, so it make sense to ower the learning rate a bit to have a better result , As we can see lowering the learning rate not only help us to get the smooth loss curve , but the owerall accuracy was also improved."
   ]
  },
  {
   "cell_type": "code",
   "execution_count": 27,
   "metadata": {},
   "outputs": [],
   "source": [
    "y_test_pred = model.predict_classes(X_test)"
   ]
  },
  {
   "cell_type": "code",
   "execution_count": 28,
   "metadata": {
    "scrolled": true
   },
   "outputs": [
    {
     "name": "stdout",
     "output_type": "stream",
     "text": [
      "Shape of predicction  (10000,)\n",
      "Shape of test  (10000, 1)\n"
     ]
    }
   ],
   "source": [
    "print('Shape of predicction ', y_test_pred.shape)\n",
    "print('Shape of test ', y_test.shape)"
   ]
  },
  {
   "cell_type": "code",
   "execution_count": 29,
   "metadata": {
    "scrolled": false
   },
   "outputs": [
    {
     "name": "stdout",
     "output_type": "stream",
     "text": [
      "[[ 967    1    2    0    0    2    3    1    2    2]\n",
      " [   0 1127    3    1    0    1    3    0    0    0]\n",
      " [   4    3 1004    3    2    0    4    7    4    1]\n",
      " [   2    0    6  972    0   10    0    7   10    3]\n",
      " [   1    4    5    0  940    1    9    3    2   17]\n",
      " [   2    2    0   10    0  867    6    2    2    1]\n",
      " [   5    3    0    0    2   10  934    0    4    0]\n",
      " [   2   12   14    2    3    2    0  981    0   12]\n",
      " [   7    7    3    3    1   10   10    6  923    4]\n",
      " [   4    5    0    6    9    5    1    8    2  969]]\n"
     ]
    }
   ],
   "source": [
    "conf_mat = confusion_matrix(y_test, y_test_pred)\n",
    "print(conf_mat)"
   ]
  },
  {
   "cell_type": "code",
   "execution_count": 30,
   "metadata": {},
   "outputs": [
    {
     "name": "stdout",
     "output_type": "stream",
     "text": [
      "              precision    recall  f1-score   support\n",
      "\n",
      "           0       0.97      0.99      0.98       980\n",
      "           1       0.97      0.99      0.98      1135\n",
      "           2       0.97      0.97      0.97      1032\n",
      "           3       0.97      0.96      0.97      1010\n",
      "           4       0.98      0.96      0.97       982\n",
      "           5       0.95      0.97      0.96       892\n",
      "           6       0.96      0.97      0.97       958\n",
      "           7       0.97      0.95      0.96      1028\n",
      "           8       0.97      0.95      0.96       974\n",
      "           9       0.96      0.96      0.96      1009\n",
      "\n",
      "    accuracy                           0.97     10000\n",
      "   macro avg       0.97      0.97      0.97     10000\n",
      "weighted avg       0.97      0.97      0.97     10000\n",
      "\n"
     ]
    }
   ],
   "source": [
    "print(classification_report(y_test, y_test_pred))"
   ]
  },
  {
   "cell_type": "code",
   "execution_count": 31,
   "metadata": {
    "scrolled": true
   },
   "outputs": [
    {
     "data": {
      "text/plain": [
       "<matplotlib.image.AxesImage at 0x18f925a0a48>"
      ]
     },
     "execution_count": 31,
     "metadata": {},
     "output_type": "execute_result"
    },
    {
     "data": {
      "image/png": "[encoded data removed]",
      "text/plain": [
       "<Figure size 288x288 with 1 Axes>"
      ]
     },
     "metadata": {
      "needs_background": "light"
     },
     "output_type": "display_data"
    }
   ],
   "source": [
    "## Dark color represent the correctness of classification\n",
    "plt.matshow(conf_mat , cmap = plt.cm.Blues)"
   ]
  },
  {
   "cell_type": "code",
   "execution_count": 32,
   "metadata": {},
   "outputs": [],
   "source": [
    "## TO ca;culate the error rate , sum instance of each class and than divide it\n",
    "row_sum = conf_mat.sum(axis=1, keepdims=True)\n",
    "norm_conf_mx = conf_mat/ row_sum"
   ]
  },
  {
   "cell_type": "code",
   "execution_count": 33,
   "metadata": {},
   "outputs": [
    {
     "data": {
      "text/plain": [
       "<matplotlib.image.AxesImage at 0x18f925fe3c8>"
      ]
     },
     "execution_count": 33,
     "metadata": {},
     "output_type": "execute_result"
    },
    {
     "data": {
      "image/png": "[encoded data removed]",
      "text/plain": [
       "<Figure size 288x288 with 1 Axes>"
      ]
     },
     "metadata": {
      "needs_background": "light"
     },
     "output_type": "display_data"
    }
   ],
   "source": [
    "## Dark color represent the higher error\n",
    "np.fill_diagonal(norm_conf_mx,0)\n",
    "plt.matshow(norm_conf_mx, cmap = plt.cm.Blues)"
   ]
  },
  {
   "cell_type": "markdown",
   "metadata": {},
   "source": [
    "### Understand the feature reduction \n"
   ]
  },
  {
   "cell_type": "code",
   "execution_count": 34,
   "metadata": {},
   "outputs": [],
   "source": [
    "pca = PCA(n_components=512)\n",
    "X_train = pca.fit_transform(X_train)"
   ]
  },
  {
   "cell_type": "code",
   "execution_count": 35,
   "metadata": {},
   "outputs": [
    {
     "data": {
      "text/plain": [
       "[<matplotlib.lines.Line2D at 0x18f9265cf08>]"
      ]
     },
     "execution_count": 35,
     "metadata": {},
     "output_type": "execute_result"
    },
    {
     "data": {
      "image/png": "[encoded data removed]",
      "text/plain": [
       "<Figure size 432x288 with 1 Axes>"
      ]
     },
     "metadata": {
      "needs_background": "light"
     },
     "output_type": "display_data"
    }
   ],
   "source": [
    "plt.plot(np.cumsum(pca.explained_variance_ratio_))"
   ]
  },
  {
   "cell_type": "code",
   "execution_count": 36,
   "metadata": {},
   "outputs": [
    {
     "name": "stdout",
     "output_type": "stream",
     "text": [
      "Shape of input after PCA (48000, 512)\n"
     ]
    }
   ],
   "source": [
    "print('Shape of input after PCA', X_train.shape)"
   ]
  },
  {
   "cell_type": "code",
   "execution_count": 37,
   "metadata": {},
   "outputs": [],
   "source": [
    "X_val = pca.transform(X_val)\n",
    "X_test = pca.transform(X_test)\n"
   ]
  },
  {
   "cell_type": "code",
   "execution_count": 38,
   "metadata": {
    "scrolled": true
   },
   "outputs": [
    {
     "name": "stdout",
     "output_type": "stream",
     "text": [
      "Model: \"sequential_2\"\n",
      "_________________________________________________________________\n",
      "Layer (type)                 Output Shape              Param #   \n",
      "=================================================================\n",
      "dense_8 (Dense)              (None, 256)               131328    \n",
      "_________________________________________________________________\n",
      "dense_9 (Dense)              (None, 126)               32382     \n",
      "_________________________________________________________________\n",
      "dense_10 (Dense)             (None, 54)                6858      \n",
      "_________________________________________________________________\n",
      "dense_11 (Dense)             (None, 10)                550       \n",
      "=================================================================\n",
      "Total params: 171,118\n",
      "Trainable params: 171,118\n",
      "Non-trainable params: 0\n",
      "_________________________________________________________________\n"
     ]
    }
   ],
   "source": [
    "\n",
    "### hyper parameters\n",
    "input_dimension = X_train.shape[1] # this represent number of features\n",
    "epochs = 20\n",
    "batch_size = 256\n",
    "\n",
    "### model\n",
    "model = Sequential()\n",
    "model.add(Dense(256, input_shape=(input_dimension,), activation='relu', kernel_regularizer= tf.keras.regularizers.l1(0.001)))\n",
    "model.add(Dense(126, activation='relu'))\n",
    "model.add(Dense(54, activation='relu',kernel_regularizer= tf.keras.regularizers.l1(0.001)))\n",
    "model.add(Dense(10, activation='softmax'))\n",
    "model.compile(optimizer=tf.keras.optimizers.Adam(0.001),loss='sparse_categorical_crossentropy',\n",
    "              metrics=['accuracy'])\n",
    "model.summary()"
   ]
  },
  {
   "cell_type": "code",
   "execution_count": 39,
   "metadata": {
    "scrolled": true
   },
   "outputs": [
    {
     "name": "stdout",
     "output_type": "stream",
     "text": [
      "Train on 48000 samples, validate on 12000 samples\n",
      "Epoch 1/20\n",
      "48000/48000 [==============================] - 2s 46us/sample - loss: 3.0901 - accuracy: 0.8737 - val_loss: 1.2100 - val_accuracy: 0.9468\n",
      "Epoch 2/20\n",
      "48000/48000 [==============================] - 1s 30us/sample - loss: 0.8996 - accuracy: 0.9468 - val_loss: 0.7349 - val_accuracy: 0.9518\n",
      "Epoch 3/20\n",
      "48000/48000 [==============================] - 1s 30us/sample - loss: 0.6493 - accuracy: 0.9511 - val_loss: 0.6419 - val_accuracy: 0.9516\n",
      "Epoch 4/20\n",
      "48000/48000 [==============================] - 1s 30us/sample - loss: 0.5949 - accuracy: 0.9554 - val_loss: 0.5877 - val_accuracy: 0.9551\n",
      "Epoch 5/20\n",
      "48000/48000 [==============================] - 1s 30us/sample - loss: 0.5021 - accuracy: 0.9587 - val_loss: 0.5038 - val_accuracy: 0.9585\n",
      "Epoch 6/20\n",
      "48000/48000 [==============================] - 2s 32us/sample - loss: 0.4823 - accuracy: 0.9596 - val_loss: 0.4650 - val_accuracy: 0.9597\n",
      "Epoch 7/20\n",
      "48000/48000 [==============================] - 1s 30us/sample - loss: 0.4720 - accuracy: 0.9625 - val_loss: 0.5087 - val_accuracy: 0.9617\n",
      "Epoch 8/20\n",
      "48000/48000 [==============================] - 1s 31us/sample - loss: 0.4841 - accuracy: 0.9638 - val_loss: 0.5233 - val_accuracy: 0.9636\n",
      "Epoch 9/20\n",
      "48000/48000 [==============================] - 1s 29us/sample - loss: 0.4258 - accuracy: 0.9661 - val_loss: 0.4151 - val_accuracy: 0.9647\n",
      "Epoch 10/20\n",
      "48000/48000 [==============================] - 1s 30us/sample - loss: 0.4053 - accuracy: 0.9660 - val_loss: 0.4035 - val_accuracy: 0.9649\n",
      "Epoch 11/20\n",
      "48000/48000 [==============================] - 1s 30us/sample - loss: 0.4003 - accuracy: 0.9673 - val_loss: 0.4156 - val_accuracy: 0.9643\n",
      "Epoch 12/20\n",
      "48000/48000 [==============================] - 1s 30us/sample - loss: 0.4042 - accuracy: 0.9677 - val_loss: 0.4147 - val_accuracy: 0.9657\n",
      "Epoch 13/20\n",
      "48000/48000 [==============================] - 1s 30us/sample - loss: 0.3628 - accuracy: 0.9690 - val_loss: 0.3501 - val_accuracy: 0.9675\n",
      "Epoch 14/20\n",
      "48000/48000 [==============================] - 1s 30us/sample - loss: 0.3766 - accuracy: 0.9696 - val_loss: 0.3997 - val_accuracy: 0.9672\n",
      "Epoch 15/20\n",
      "48000/48000 [==============================] - 1s 29us/sample - loss: 0.3851 - accuracy: 0.9696 - val_loss: 0.4437 - val_accuracy: 0.9668\n",
      "Epoch 16/20\n",
      "48000/48000 [==============================] - 1s 30us/sample - loss: 0.4002 - accuracy: 0.9698 - val_loss: 0.3625 - val_accuracy: 0.9682\n",
      "Epoch 17/20\n",
      "48000/48000 [==============================] - 2s 33us/sample - loss: 0.3469 - accuracy: 0.9717 - val_loss: 0.3850 - val_accuracy: 0.9668\n",
      "Epoch 18/20\n",
      "48000/48000 [==============================] - 2s 32us/sample - loss: 0.3550 - accuracy: 0.9703 - val_loss: 0.3795 - val_accuracy: 0.9679\n",
      "Epoch 19/20\n",
      "48000/48000 [==============================] - 2s 33us/sample - loss: 0.3567 - accuracy: 0.9713 - val_loss: 0.3558 - val_accuracy: 0.9694\n",
      "Epoch 20/20\n",
      "48000/48000 [==============================] - 1s 31us/sample - loss: 0.3289 - accuracy: 0.9727 - val_loss: 0.3587 - val_accuracy: 0.9650\n"
     ]
    }
   ],
   "source": [
    "history = model.fit(X_train, y_train.values, epochs=epochs, batch_size=batch_size,\n",
    "          validation_data=(X_val, y_val.values))"
   ]
  },
  {
   "cell_type": "code",
   "execution_count": 40,
   "metadata": {},
   "outputs": [
    {
     "data": {
      "text/plain": [
       "<matplotlib.legend.Legend at 0x18f86ddfdc8>"
      ]
     },
     "execution_count": 40,
     "metadata": {},
     "output_type": "execute_result"
    },
    {
     "data": {
      "image/png": "[encoded data removed]",
      "text/plain": [
       "<Figure size 432x288 with 1 Axes>"
      ]
     },
     "metadata": {
      "needs_background": "light"
     },
     "output_type": "display_data"
    }
   ],
   "source": [
    "plt.plot( history.history['accuracy'], color='skyblue', linewidth=2, label='training acc')\n",
    "plt.plot( history.history['val_accuracy'], color='green', linewidth=2, label='val acc')\n",
    "\n",
    "plt.plot( history.history['loss'], color='skyblue', linewidth=2, linestyle='dashed', label=\"training loss\")\n",
    "plt.plot( history.history['val_loss'], color='green', linewidth=2, linestyle='dashed', label=\"val loss\")\n",
    "plt.legend()"
   ]
  },
  {
   "cell_type": "code",
   "execution_count": 41,
   "metadata": {},
   "outputs": [],
   "source": [
    "y_test_pred = model.predict_classes(X_test)"
   ]
  },
  {
   "cell_type": "code",
   "execution_count": 42,
   "metadata": {
    "scrolled": true
   },
   "outputs": [
    {
     "name": "stdout",
     "output_type": "stream",
     "text": [
      "[[ 972    0    0    0    1    0    1    1    3    2]\n",
      " [   0 1122    5    2    0    0    3    0    3    0]\n",
      " [   4    2 1006    3    1    0    2    4   10    0]\n",
      " [   0    0    8  976    1    5    0    7    7    6]\n",
      " [   0    0    7    1  909    1    3    4    1   56]\n",
      " [   5    1    2   16    2  845    6    0    9    6]\n",
      " [   9    2    4    0    5    5  926    0    7    0]\n",
      " [   2    9   14    3    1    0    0  971    1   27]\n",
      " [   4    0    4    6    4    6    1    2  942    5]\n",
      " [   2    3    1    7    3    5    0    6    3  979]]\n"
     ]
    }
   ],
   "source": [
    "conf_mat = confusion_matrix(y_test, y_test_pred)\n",
    "print(conf_mat)"
   ]
  },
  {
   "cell_type": "code",
   "execution_count": 43,
   "metadata": {
    "scrolled": true
   },
   "outputs": [
    {
     "name": "stdout",
     "output_type": "stream",
     "text": [
      "              precision    recall  f1-score   support\n",
      "\n",
      "           0       0.97      0.99      0.98       980\n",
      "           1       0.99      0.99      0.99      1135\n",
      "           2       0.96      0.97      0.97      1032\n",
      "           3       0.96      0.97      0.96      1010\n",
      "           4       0.98      0.93      0.95       982\n",
      "           5       0.97      0.95      0.96       892\n",
      "           6       0.98      0.97      0.97       958\n",
      "           7       0.98      0.94      0.96      1028\n",
      "           8       0.96      0.97      0.96       974\n",
      "           9       0.91      0.97      0.94      1009\n",
      "\n",
      "    accuracy                           0.96     10000\n",
      "   macro avg       0.97      0.96      0.96     10000\n",
      "weighted avg       0.97      0.96      0.96     10000\n",
      "\n"
     ]
    }
   ],
   "source": [
    "print(classification_report(y_test, y_test_pred))"
   ]
  },
  {
   "cell_type": "markdown",
   "metadata": {},
   "source": [
    "#### Note : Model with PCA executed comparatively faster as without it. With PCA we may even chose smaller model since the number if inputs have decreased. Now lets use the data augmentation to increase the data set and achive better numbers. Since CNN perform better with image , next step should be to perform Classification on images using CNN acheive more than 97 % accuracy."
   ]
  }
 ],
 "metadata": {
  "kernelspec": {
   "display_name": "Python 3",
   "language": "python",
   "name": "python3"
  },
  "language_info": {
   "codemirror_mode": {
    "name": "ipython",
    "version": 3
   },
   "file_extension": ".py",
   "mimetype": "text/x-python",
   "name": "python",
   "nbconvert_exporter": "python",
   "pygments_lexer": "ipython3",
   "version": "3.7.5"
  }
 },
 "nbformat": 4,
 "nbformat_minor": 2
}
